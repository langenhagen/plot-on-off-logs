{
 "cells": [
  {
   "cell_type": "markdown",
   "metadata": {},
   "source": [
    "# Plot On/Off Logs\n",
    "Load and render log files of my concise timestamp to on/off format.\n",
    "\n",
    "Change the path to the timestamps to on/off logfile in the following cell by changing `log_file = \"<path/to/your/logfile>\"`.  \n",
    "You can also specify the width of the spikes via `spike_width`, e.g. by setting `spike_width = pd.Timedelta(hours=1)`."
   ]
  },
  {
   "cell_type": "code",
   "execution_count": null,
   "metadata": {},
   "outputs": [],
   "source": [
    "import datetime\n",
    "from typing import Union\n",
    "\n",
    "import matplotlib as mpl\n",
    "import matplotlib.pyplot as plt\n",
    "import pandas as pd\n",
    "from IPython.display import display\n",
    "from matplotlib import cm\n",
    "\n",
    "# change the path to your specificationspd.Timedelta(minutes=5)\n",
    "log_file: str = \"devices.log\"\n",
    "spike_width: Union[pd.Timedelta, float] = pd.Timedelta(minutes=5)\n",
    "\n",
    "\n",
    "def load_logfile(path_to_logfile: str) -> pd.DataFrame:\n",
    "    \"\"\"Load a logfile as a pandas dataframe with a column for each signal.\"\"\"\n",
    "    timestamps_to_signals = dict()\n",
    "    with open(path_to_logfile, \"r\") as file:\n",
    "        for line in file:\n",
    "            words = line.split()\n",
    "            timestamp = datetime.datetime.strptime(\" \".join(words[:-1]), \"%Y-%m-%d %H:%M\")\n",
    "            signals = {signal:1 for signal in words[-1]}\n",
    "            timestamps_to_signals[timestamp] = signals\n",
    "        df = pd.DataFrame.from_dict(timestamps_to_signals, orient=\"index\")\n",
    "        return df\n",
    "\n",
    "\n",
    "def display_graph(df: pd.DataFrame, spike_width: pd.Timedelta = 1):\n",
    "    fig=plt.figure(figsize=(30, 1.5 * len(df.columns)), dpi=100)\n",
    "    ax = fig.add_subplot()\n",
    "    plt.title(\"Timeline of the On/Off Signals\")\n",
    "    row_height = 1\n",
    "    for i, (title, series) in enumerate(df.iteritems(), 0):\n",
    "        ax.broken_barh(\n",
    "            [(x, spike_width) for x in df.index[df[title] == 1]],\n",
    "            (i * row_height, row_height), color=cm.brg(1.*i/len(df.columns)))\n",
    "    \n",
    "    fig.autofmt_xdate()\n",
    "    plt.xticks(rotation=30, ha='right')\n",
    "    ax.grid(True)\n",
    "    ax.xaxis.set_major_formatter(mpl.dates.DateFormatter(\"%a, %Y-%m-%d\"))\n",
    "    ax.set_xlabel(\"Time\")\n",
    "    ax.xaxis.set_major_locator(mpl.dates.DayLocator())\n",
    "    ax.xaxis.set_minor_locator(mpl.dates.HourLocator())\n",
    "    ytick_offset = row_height * 0.5\n",
    "    ax.set_yticks([i + ytick_offset for i in range(len(df.columns))])\n",
    "    ax.set_yticklabels(df.columns.to_list())\n",
    "    display(fig)\n",
    "    plt.close()\n",
    "\n",
    "\n",
    "df = load_logfile(log_file)\n",
    "display_graph(df, spike_width)"
   ]
  }
 ],
 "metadata": {
  "kernelspec": {
   "display_name": "Python 3.8.3 64-bit ('.venv')",
   "language": "python",
   "name": "python38364bitvenvaa23e104cc16490d87e35d9738d7728d"
  },
  "language_info": {
   "codemirror_mode": {
    "name": "ipython",
    "version": 3
   },
   "file_extension": ".py",
   "mimetype": "text/x-python",
   "name": "python",
   "nbconvert_exporter": "python",
   "pygments_lexer": "ipython3",
   "version": "3.8.3-final"
  }
 },
 "nbformat": 4,
 "nbformat_minor": 4
}